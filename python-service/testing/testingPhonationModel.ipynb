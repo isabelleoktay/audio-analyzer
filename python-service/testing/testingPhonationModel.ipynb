{
 "cells": [
  {
   "cell_type": "code",
   "execution_count": 6,
   "id": "4f855d9c",
   "metadata": {},
   "outputs": [
    {
     "name": "stdout",
     "output_type": "stream",
     "text": [
      "environ({'COMMAND_MODE': 'unix2003', 'CONDA_DEFAULT_ENV': 'base', 'CONDA_EXE': '/Users/isabelleoktay/miniforge3/bin/conda', 'CONDA_PREFIX': '/Users/isabelleoktay/miniforge3', 'CONDA_PROMPT_MODIFIER': '(base) ', 'CONDA_PYTHON_EXE': '/Users/isabelleoktay/miniforge3/bin/python', 'CONDA_SHLVL': '1', 'HOME': '/Users/isabelleoktay', 'LOGNAME': 'isabelleoktay', 'MallocNanoZone': '0', 'NVM_BIN': '/Users/isabelleoktay/.nvm/versions/node/v22.11.0/bin', 'NVM_DIR': '/Users/isabelleoktay/.nvm', 'NVM_INC': '/Users/isabelleoktay/.nvm/versions/node/v22.11.0/include/node', 'ORIGINAL_XDG_CURRENT_DESKTOP': 'undefined', 'PATH': '/Users/isabelleoktay/miniforge3/bin:/Users/isabelleoktay/.nvm/versions/node/v22.11.0/bin:/Library/Frameworks/Python.framework/Versions/3.11/bin:/Users/isabelleoktay/miniforge3/bin:/Users/isabelleoktay/miniforge3/condabin:/Library/Frameworks/Python.framework/Versions/3.11/bin:/usr/local/bin:/System/Cryptexes/App/usr/bin:/usr/bin:/bin:/usr/sbin:/sbin:/var/run/com.apple.security.cryptexd/codex.system/bootstrap/usr/local/bin:/var/run/com.apple.security.cryptexd/codex.system/bootstrap/usr/bin:/var/run/com.apple.security.cryptexd/codex.system/bootstrap/usr/appleinternal/bin:/Library/Apple/usr/bin:/usr/local/share/dotnet:~/.dotnet/tools:/Library/Frameworks/Mono.framework/Versions/Current/Commands', 'PWD': '/', 'SHELL': '/bin/bash', 'SHLVL': '3', 'SSH_AUTH_SOCK': '/private/tmp/com.apple.launchd.tn7O7Qbopx/Listeners', 'TMPDIR': '/var/folders/_0/43hbbhf92ms0v84d8mnpnnjr0000gn/T/', 'USER': 'isabelleoktay', 'VSCODE_CODE_CACHE_PATH': '/Users/isabelleoktay/Library/Application Support/Code/CachedData/17baf841131aa23349f217ca7c570c76ee87b957', 'VSCODE_CRASH_REPORTER_PROCESS_TYPE': 'extensionHost', 'VSCODE_CWD': '/', 'VSCODE_ESM_ENTRYPOINT': 'vs/workbench/api/node/extensionHostProcess', 'VSCODE_HANDLES_UNCAUGHT_ERRORS': 'true', 'VSCODE_IPC_HOOK': '/Users/isabelleoktay/Library/Application Support/Code/1.99-main.sock', 'VSCODE_NLS_CONFIG': '{\"userLocale\":\"en-us\",\"osLocale\":\"en-us\",\"resolvedLanguage\":\"en\",\"defaultMessagesFile\":\"/Applications/Visual Studio Code.app/Contents/Resources/app/out/nls.messages.json\",\"locale\":\"en-us\",\"availableLanguages\":{}}', 'VSCODE_PID': '82833', 'XML_CATALOG_FILES': 'file:///Users/isabelleoktay/miniforge3/etc/xml/catalog file:///etc/xml/catalog', 'XPC_FLAGS': '0x0', 'XPC_SERVICE_NAME': '0', '_': '/Users/isabelleoktay/miniforge3/bin/python', '__CFBundleIdentifier': 'com.microsoft.VSCode', '__CF_USER_TEXT_ENCODING': '0x1F5:0x0:0x0', 'ELECTRON_RUN_AS_NODE': '1', 'VSCODE_L10N_BUNDLE_LOCATION': '', 'PYTHONUNBUFFERED': '1', 'PYTHONIOENCODING': 'utf-8', '_CE_CONDA': '', 'CONDA_ROOT': '/Users/isabelleoktay/miniforge3', '_CE_M': '', 'LC_CTYPE': 'C.UTF-8', 'PYDEVD_IPYTHON_COMPATIBLE_DEBUGGING': '1', 'PYTHON_FROZEN_MODULES': 'on', 'PYDEVD_USE_FRAME_EVAL': 'NO', 'TERM': 'xterm-color', 'CLICOLOR': '1', 'FORCE_COLOR': '1', 'CLICOLOR_FORCE': '1', 'PAGER': 'cat', 'GIT_PAGER': 'cat', 'MPLBACKEND': 'module://matplotlib_inline.backend_inline', 'TF2_BEHAVIOR': '1', 'TPU_ML_PLATFORM': 'Tensorflow', 'KMP_DUPLICATE_LIB_OK': 'True', 'KMP_INIT_AT_FORK': 'FALSE'})\n",
      "<tensorflow.python.saved_model.load.Loader._recreate_base_user_object.<locals>._UserObject object at 0x155086380>\n"
     ]
    }
   ],
   "source": [
    "from keras.models import load_model\n",
    "import tensorflow_hub as hub\n",
    "import os\n",
    "print(os.environ)\n",
    "\n",
    "vggish = hub.load('https://tfhub.dev/google/vggish/1')\n",
    "print(vggish)\n",
    "\n",
    "# model = load_model(\"phonation_vggish_cnn_tf_2_15.h5\")\n",
    "# print(model.summary())"
   ]
  }
 ],
 "metadata": {
  "kernelspec": {
   "display_name": "base",
   "language": "python",
   "name": "python3"
  },
  "language_info": {
   "codemirror_mode": {
    "name": "ipython",
    "version": 3
   },
   "file_extension": ".py",
   "mimetype": "text/x-python",
   "name": "python",
   "nbconvert_exporter": "python",
   "pygments_lexer": "ipython3",
   "version": "3.10.13"
  }
 },
 "nbformat": 4,
 "nbformat_minor": 5
}
